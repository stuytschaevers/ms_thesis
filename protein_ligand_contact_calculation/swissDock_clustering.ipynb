{
 "cells": [
  {
   "cell_type": "markdown",
   "metadata": {},
   "source": [
    "This script analyzes the SwissDock PDB with all of the poses\n",
    "It should give you the deltaG and the group of ligands"
   ]
  },
  {
   "cell_type": "code",
   "execution_count": 3,
   "metadata": {},
   "outputs": [],
   "source": [
    "import sys\n",
    "import re\n",
    "import numpy as np\n",
    "from collections import defaultdict\n",
    "from sklearn.cluster import KMeans"
   ]
  },
  {
   "cell_type": "code",
   "execution_count": null,
   "metadata": {},
   "outputs": [],
   "source": [
    "def parse_pdb(pdb_file):\n",
    "    \"\"\"Extracts ligand coordinates, ΔG, cluster ID, and rank from the PDB file.\"\"\"\n",
    "    ligands = []  # Store as (ligand_data, delta_g, rank)\n",
    "    \n",
    "    current_ligand = []\n",
    "    delta_g = None\n",
    "    cluster = None\n",
    "    rank = None\n",
    "    \n",
    "    with open(pdb_file, 'r') as file:\n",
    "        for line in file:\n",
    "            if line.startswith('REMARK'):\n",
    "                if 'deltaG:' in line:\n",
    "                    delta_g = float(line.split()[-1])\n",
    "                elif 'Cluster:' in line:\n",
    "                    cluster = int(line.split()[-1])\n",
    "                elif 'Rank:' in line:\n",
    "                    rank = int(line.split()[-1])\n",
    "            elif line.startswith('ATOM') or line.startswith('HETATM'):\n",
    "                current_ligand.append(line)\n",
    "            elif line.startswith('TER') and current_ligand:\n",
    "                if delta_g is not None:\n",
    "                    ligands.append((current_ligand, delta_g, cluster, rank))\n",
    "                current_ligand = []\n",
    "                delta_g = None\n",
    "                cluster = None\n",
    "                rank = None\n",
    "    \n",
    "    return ligands\n",
    "\n",
    "def get_centroid(ligand):\n",
    "    \"\"\"Calculates the centroid (average x, y, z coordinates) of a ligand.\"\"\"\n",
    "    coords = []\n",
    "    for line in ligand:\n",
    "        x, y, z = float(line[30:38]), float(line[38:46]), float(line[46:54])\n",
    "        coords.append((x, y, z))\n",
    "    return np.mean(coords, axis=0)\n",
    "\n",
    "def group_by_distance(ligands, num_clusters=5):\n",
    "    \"\"\"Groups ligands into exactly num_clusters based on centroid positions.\"\"\"\n",
    "    centroids = np.array([get_centroid(ligand) for ligand, _, _, _ in ligands])\n",
    "    \n",
    "    # Apply K-Means clustering\n",
    "    kmeans = KMeans(n_clusters=num_clusters, random_state=42, n_init=10)\n",
    "    labels = kmeans.fit_predict(centroids)\n",
    "\n",
    "    # Group ligands by computed clusters\n",
    "    grouped_ligands = defaultdict(list)\n",
    "    for label, (ligand, delta_g, cluster, rank) in zip(labels, ligands):\n",
    "        grouped_ligands[label].append((ligand, delta_g, cluster, rank))\n",
    "\n",
    "    return grouped_ligands, kmeans.cluster_centers_\n",
    "\n",
    "# Function to write all ligands and their details to a file, deltaG, cluster, rank, centroid\n",
    "def write_ligands_to_file(grouped_ligands, cluster_centers, output_file):\n",
    "    \"\"\"Writes grouped ligand data, including centroid, ΔG, and rank, to a file.\"\"\"\n",
    "    with open(output_file, 'w') as file:\n",
    "        for cluster, ligands_in_cluster in sorted(grouped_ligands.items()):\n",
    "            file.write(f\"Cluster {cluster}:\\n\")\n",
    "            file.write(f\"  Cluster Centroid: {cluster_centers[cluster]}\\n\")\n",
    "            \n",
    "            for i, (ligand, delta_g, orig_cluster, rank) in enumerate(ligands_in_cluster, 1):\n",
    "                centroid = get_centroid(ligand)\n",
    "                file.write(f\"  Ligand {i}: deltaG = {delta_g:.6f}, Original Cluster = {orig_cluster}, Rank = {rank}, Centroid = {centroid}\\n\")\n",
    "            file.write(\"\\n\")"
   ]
  },
  {
   "cell_type": "code",
   "execution_count": 14,
   "metadata": {},
   "outputs": [
    {
     "name": "stdout",
     "output_type": "stream",
     "text": [
      "Cluster 0:\n",
      "  Cluster Centroid: [106.88643568 105.73441424 121.75448074]\n",
      "  Ligand with the lowest ΔG: ΔG = -11.872108, Original Cluster = 29, Rank = 1, Centroid = [106.81913953 106.30509302 122.43097674]\n",
      "\n",
      "Cluster 1:\n",
      "  Cluster Centroid: [ 69.21029111  99.1743451  147.96309109]\n",
      "  Ligand with the lowest ΔG: ΔG = -16.188068, Original Cluster = 5, Rank = 3, Centroid = [ 71.35706977 100.393      148.83476744]\n",
      "\n",
      "Cluster 2:\n",
      "  Cluster Centroid: [ 85.59030814 101.48394186 157.51561919]\n",
      "  Ligand with the lowest ΔG: ΔG = -13.669934, Original Cluster = 2, Rank = 0, Centroid = [ 85.61418605 101.45216279 157.66155814]\n",
      "\n",
      "Cluster 3:\n",
      "  Cluster Centroid: [127.47181395 101.78480814 141.91376744]\n",
      "  Ligand with the lowest ΔG: ΔG = -10.120633, Original Cluster = 28, Rank = 0, Centroid = [127.53923256 101.80067442 142.05893023]\n",
      "\n",
      "Cluster 4:\n",
      "  Cluster Centroid: [105.36911337 121.83590407 118.01249709]\n",
      "  Ligand with the lowest ΔG: ΔG = -14.122814, Original Cluster = 19, Rank = 1, Centroid = [105.37246512 121.83625581 118.01344186]\n",
      "\n"
     ]
    }
   ],
   "source": [
    "def main():\n",
    "    if len(sys.argv) < 2:\n",
    "        print(\"Usage: python analyze_ligands.py <pdb_file>\")\n",
    "        sys.exit(1)\n",
    "\n",
    "    pdb_file = \"/Users/stuytschaevers/Desktop/Thesis/atp_mg2+/swissDock/clusters.dock4.pdb\"\n",
    "    ligands = parse_pdb(pdb_file)\n",
    "    output_dir = \"/Users/stuytschaevers/Desktop/Thesis/atp_mg2+/swissDock/final_files/\"\n",
    "\n",
    "    # Apply clustering to group into 5 distance-based clusters\n",
    "    grouped_ligands, cluster_centers = group_by_distance(ligands, num_clusters=5)\n",
    "\n",
    "    # Print clusters\n",
    "    for cluster, ligands_in_cluster in sorted(grouped_ligands.items()):\n",
    "        print(f\"Cluster {cluster}:\")\n",
    "        # Calculate and print the centroid of the cluster\n",
    "        cluster_centroid = cluster_centers[cluster]\n",
    "        print(f\"  Cluster Centroid: {cluster_centroid}\")\n",
    "        \n",
    "        # Find the ligand with the lowest ΔG in this cluster\n",
    "        lowest_delta_g_ligand = min(ligands_in_cluster, key=lambda x: x[1])  # Sort by ΔG\n",
    "        ligand, delta_g, orig_cluster, rank = lowest_delta_g_ligand\n",
    "        centroid = get_centroid(ligand)\n",
    "        print(f\"  Ligand with the lowest ΔG: ΔG = {delta_g:.6f}, Original Cluster = {orig_cluster}, Rank = {rank}, Centroid = {centroid}\")\n",
    "        \n",
    "        print()\n",
    "\n",
    "    amount_of_ligands_file  = output_dir + \"amount_of_ligands_in_clusters.csv\"\n",
    "    # Save the amount of ligands in each cluster to a file \n",
    "    with open(amount_of_ligands_file, \"w\") as f:\n",
    "        f.write(\"Cluster,Number of Ligands\\n\")  # CSV header\n",
    "        for cluster, ligands_in_cluster in sorted(grouped_ligands.items()):\n",
    "            f.write(f\"{cluster},{len(ligands_in_cluster)}\\n\")  # Proper CSV format\n",
    "\n",
    "    # Write all ligands and their details to a file\n",
    "    output_file = \"ligands_grouped_by_distance.csv\"\n",
    "    output_file = output_dir + output_file\n",
    "    write_ligands_to_file(grouped_ligands, cluster_centers, output_file)\n",
    "    \n",
    "\n",
    "if __name__ == \"__main__\":\n",
    "    main()"
   ]
  },
  {
   "cell_type": "code",
   "execution_count": 11,
   "metadata": {},
   "outputs": [
    {
     "name": "stdout",
     "output_type": "stream",
     "text": [
      "The centroid of the ligands is: [ 9.934042 10.635742 13.779993]\n"
     ]
    }
   ],
   "source": [
    "import mdtraj as md\n",
    "import numpy as np\n",
    "\n",
    "def calculate_centroid(pdb_file, ligands):\n",
    "    # Load the PDB file\n",
    "    traj = md.load(pdb_file)\n",
    "\n",
    "    # Find atom indices that belong to ligands (not protein)\n",
    "    ligand_indices = []\n",
    "    for i, res in enumerate(traj.topology.residues):\n",
    "        if res.name in ligands:\n",
    "            # Collect all atom indices of the ligands\n",
    "            ligand_indices.extend([atom.index for atom in res.atoms])\n",
    "\n",
    "    # Get the coordinates of the ligands\n",
    "    ligand_coords = traj.xyz[0, ligand_indices, :]  # Only the first frame (structure)\n",
    "\n",
    "    # Calculate the centroid (mean of coordinates)\n",
    "    centroid = np.mean(ligand_coords, axis=0)\n",
    "    return centroid\n",
    "\n",
    "def main():\n",
    "    pdb_file = \"/Users/stuytschaevers/Desktop/Thesis/atp_mg2+/swissDock/clusters_final/all_clusters_FINAL.pdb\"  # Replace with your actual PDB file path\n",
    "    ligands = [\"LIG\"]  # Define your ligands of interest here\n",
    "\n",
    "    centroid = calculate_centroid(pdb_file, ligands)\n",
    "    print(f\"The centroid of the ligands is: {centroid}\")\n",
    "\n",
    "if __name__ == \"__main__\":\n",
    "    main()\n"
   ]
  },
  {
   "cell_type": "code",
   "execution_count": 7,
   "metadata": {},
   "outputs": [
    {
     "name": "stdout",
     "output_type": "stream",
     "text": [
      "1.5.1\n"
     ]
    }
   ],
   "source": [
    "# Print version of sklearn\n",
    "print(sklearn.__version__)\n"
   ]
  },
  {
   "cell_type": "code",
   "execution_count": null,
   "metadata": {},
   "outputs": [],
   "source": []
  }
 ],
 "metadata": {
  "kernelspec": {
   "display_name": "thesis",
   "language": "python",
   "name": "python3"
  },
  "language_info": {
   "codemirror_mode": {
    "name": "ipython",
    "version": 3
   },
   "file_extension": ".py",
   "mimetype": "text/x-python",
   "name": "python",
   "nbconvert_exporter": "python",
   "pygments_lexer": "ipython3",
   "version": "3.12.3"
  }
 },
 "nbformat": 4,
 "nbformat_minor": 2
}
