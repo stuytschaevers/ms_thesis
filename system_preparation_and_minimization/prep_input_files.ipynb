{
 "cells": [
  {
   "cell_type": "markdown",
   "metadata": {},
   "source": [
    "Convert mol2 file from PREPI file for ATP to a PDB using Chimera.\n",
    "This script takes the PDB of the ligand and combines it with the protein PDB.\n",
    "1. Move protein to origin\n",
    "2. Undock ligand \n",
    "3. Save only ligand \n"
   ]
  },
  {
   "cell_type": "code",
   "execution_count": 44,
   "metadata": {},
   "outputs": [],
   "source": [
    "# Import \n",
    "import os\n",
    "import mdtraj as md\n",
    "import numpy as np\n",
    "from scipy.spatial.distance import cdist"
   ]
  },
  {
   "cell_type": "code",
   "execution_count": null,
   "metadata": {},
   "outputs": [],
   "source": [
    "# Define files\n",
    "#protein = \"/Users/stuytschaevers/Desktop/Thesis/trwd_homolog/TrwD_intensive.pdb\"\n",
    "#ligand = \"/Users/stuytschaevers/Desktop/Thesis/atp_mg2+/atp.pdb\"\n",
    "protein = \"/Users/stuytschaevers/Desktop/Thesis/trwd_homolog/TrwD_intensive.pdb\"\n",
    "ligand = \"/Users/stuytschaevers/Desktop/Thesis/atp_mg2+/amber/atp.pdb\""
   ]
  },
  {
   "cell_type": "code",
   "execution_count": 46,
   "metadata": {},
   "outputs": [],
   "source": [
    "# Get trajectory of protein\n",
    "protein_traj = md.load(protein)\n",
    "ligand_traj = md.load(ligand)"
   ]
  },
  {
   "cell_type": "code",
   "execution_count": 49,
   "metadata": {},
   "outputs": [],
   "source": [
    "# Function to move protein to origin\n",
    "def move_protein_to_origin(traj):\n",
    "    # Get the topology\n",
    "    topology = traj.topology\n",
    "\n",
    "    # Get protein indices\n",
    "    protein_indices = [atom.index for atom in topology.atoms if atom.residue.name != \"LIG\"]\n",
    "\n",
    "    # Calculate center of mass using md.compute_center_of_mass\n",
    "    protein_center_of_mass = md.compute_center_of_mass(traj.atom_slice(protein_indices))[0]\n",
    "    traj.xyz[0] -= protein_center_of_mass  # Translate all atoms so the protein is centered at (0,0,0)\n",
    "    return traj"
   ]
  },
  {
   "cell_type": "code",
   "execution_count": 61,
   "metadata": {},
   "outputs": [],
   "source": [
    "def undock_ligand(protein_traj, ligand_traj):\n",
    "    # Get protein and ligand topologies\n",
    "    protein_top = protein_traj.topology\n",
    "    ligand_top = ligand_traj.topology\n",
    "\n",
    "    # Get protein and ligand indices\n",
    "    ligand_indices = [atom.index for atom in ligand_top.atoms if atom.residue.name == \"ATP\"]\n",
    "    protein_indices = [atom.index for atom in protein_top.atoms if atom.residue.name != \"ATP\"]\n",
    "\n",
    "    # Ensure the selections are valid\n",
    "    if not ligand_indices:\n",
    "        raise ValueError(\"Ligand selection resulted in zero atoms. Check the residue name 'ATP'.\")\n",
    "    if not protein_indices:\n",
    "        raise ValueError(\"Protein selection resulted in zero atoms. Verify residue names in the PDB file.\")\n",
    "\n",
    "    # Get ligand coordinates\n",
    "    ligand_coordinates = ligand_traj.xyz[0, ligand_indices]\n",
    "\n",
    "    # Calculate ligand length (max distance between any two ligand atoms)\n",
    "    ligand_length = np.max(cdist(ligand_coordinates, ligand_coordinates))\n",
    "\n",
    "    # Calculate radii of gyration\n",
    "    ligand_rg = md.compute_rg(ligand_traj.atom_slice(ligand_indices)) * 0.1  # Convert Å to nm\n",
    "    protein_rg = md.compute_rg(protein_traj.atom_slice(protein_indices)) * 0.1  # Convert Å to nm\n",
    "    tot_rg = ligand_rg + protein_rg\n",
    "    cutoff_distance = 0.75  # Separation buffer in nm\n",
    "    sphere_radius = tot_rg + 2 * cutoff_distance\n",
    "\n",
    "    # Calculate centers of mass\n",
    "    protein_center_of_mass = md.compute_center_of_mass(protein_traj.atom_slice(protein_indices))[0]\n",
    "    ligand_center_of_mass = md.compute_center_of_mass(ligand_traj.atom_slice(ligand_indices))[0]\n",
    "\n",
    "    # Calculate vector from protein to ligand and normalize\n",
    "    vector = ligand_center_of_mass - protein_center_of_mass\n",
    "    norm = np.linalg.norm(vector)\n",
    "    if norm == 0:\n",
    "        raise ValueError(\"Protein and ligand centers of mass coincide; cannot compute vector.\")\n",
    "    vector = vector / norm\n",
    "\n",
    "    # Move ligand along the vector\n",
    "    distance = sphere_radius - ligand_length - 0.25  # 0.25 nm buffer\n",
    "    new_ligand_coordinates = ligand_coordinates + distance * vector\n",
    "\n",
    "    # Update ligand trajectory\n",
    "    ligand_traj.xyz[0, ligand_indices] = new_ligand_coordinates\n",
    "\n",
    "    return ligand_traj"
   ]
  },
  {
   "cell_type": "code",
   "execution_count": 62,
   "metadata": {},
   "outputs": [],
   "source": [
    "# Function to save traj\n",
    "def save_traj(traj, output):\n",
    "    traj.save(output)"
   ]
  },
  {
   "cell_type": "code",
   "execution_count": 63,
   "metadata": {},
   "outputs": [],
   "source": [
    "def combine_protein_ligand(protein_file, ligand_file, output_file):\n",
    "    # Load the protein and ligand PDB files\n",
    "    protein_traj = md.load(protein_file)\n",
    "    ligand_traj = md.load(ligand_file)\n",
    "\n",
    "    # Remove hydrogen atoms from the protein\n",
    "    protein_traj_noH = protein_traj.atom_slice([atom.index for atom in protein_traj.topology.atoms if atom.element.symbol != 'H'])\n",
    "\n",
    "    # Combine the xyz coordinates of both the protein (without hydrogens) and the ligand\n",
    "    combined_xyz = np.concatenate([protein_traj_noH.xyz, ligand_traj.xyz], axis=1)\n",
    "\n",
    "    # Create a combined topology by joining the protein and ligand topologies\n",
    "    combined_topology = protein_traj_noH.topology.join(ligand_traj.topology)\n",
    "\n",
    "    # Create the combined trajectory using the new topology and combined coordinates\n",
    "    combined_traj = md.Trajectory(combined_xyz, combined_topology)\n",
    "\n",
    "    # Save the combined trajectory to the output file\n",
    "    combined_traj.save(output_file)\n",
    "    print(f\"Combined protein and ligand saved to {output_file}\")"
   ]
  },
  {
   "cell_type": "code",
   "execution_count": 64,
   "metadata": {},
   "outputs": [
    {
     "name": "stdout",
     "output_type": "stream",
     "text": [
      "Combined protein and ligand saved to TrwD_atp.pdb\n"
     ]
    }
   ],
   "source": [
    "# Call functions\n",
    "protein_traj = move_protein_to_origin(protein_traj)\n",
    "ligand_traj = undock_ligand(protein_traj, ligand_traj)\n",
    "save_traj(ligand_traj, \"atp_moved.pdb\")\n",
    "combine_protein_ligand(protein, ligand, \"TrwD_atp.pdb\")\n"
   ]
  },
  {
   "cell_type": "code",
   "execution_count": null,
   "metadata": {},
   "outputs": [],
   "source": []
  }
 ],
 "metadata": {
  "kernelspec": {
   "display_name": "thesis",
   "language": "python",
   "name": "python3"
  },
  "language_info": {
   "codemirror_mode": {
    "name": "ipython",
    "version": 3
   },
   "file_extension": ".py",
   "mimetype": "text/x-python",
   "name": "python",
   "nbconvert_exporter": "python",
   "pygments_lexer": "ipython3",
   "version": "3.12.3"
  }
 },
 "nbformat": 4,
 "nbformat_minor": 2
}
