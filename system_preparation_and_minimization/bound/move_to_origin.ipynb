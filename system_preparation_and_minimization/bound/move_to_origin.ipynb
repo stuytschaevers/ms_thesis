{
 "cells": [
  {
   "cell_type": "markdown",
   "metadata": {},
   "source": [
    "This function will move the protein to the origin and move the ligand the same distance"
   ]
  },
  {
   "cell_type": "code",
   "execution_count": 2,
   "metadata": {},
   "outputs": [],
   "source": [
    "import mdtraj as md\n",
    "import numpy as np"
   ]
  },
  {
   "cell_type": "code",
   "execution_count": 3,
   "metadata": {},
   "outputs": [
    {
     "name": "stdout",
     "output_type": "stream",
     "text": [
      "Number of protein atoms: 358\n",
      "Number of ligand atoms: 31\n",
      "Center of mass protein: [[-3.91065861e-05  9.22058516e-06  7.26388489e-06]]\n",
      "Center of mass ligand: [[-10.0422041   -9.6856722  -14.53208438]]\n",
      "Translation vector: [ 3.91065861e-05 -9.22058516e-06 -7.26388489e-06]\n",
      "New Center of mass protein: [[-5.54631189e-09  4.51873539e-09 -4.29826179e-09]]\n",
      "New Center of mass ligand: [[-10.04216499  -9.68568174 -14.53209201]]\n",
      "Modified PDB file saved to: /Users/stuytschaevers/Desktop/Thesis/atp_mg2+/cluster/output/input/test/TrwD_atp_min_moved_to_origin.pdb\n"
     ]
    }
   ],
   "source": [
    "def compute_com(traj, atom_selection):\n",
    "    \"\"\"\n",
    "    Compute the center of mass for the selected atoms in the trajectory.\n",
    "    \"\"\"\n",
    "    return md.compute_center_of_mass(traj.atom_slice(atom_selection))\n",
    "\n",
    "def move_to_origin(pdb_file, output_folder):\n",
    "    \"\"\"\n",
    "    Move both protein and ligand to the origin based on the protein's center of mass.\n",
    "    \"\"\"\n",
    "    # Load the trajectory\n",
    "    traj = md.load(pdb_file)\n",
    "\n",
    "    # Define selections for protein and ligand\n",
    "    protein_atoms = traj.topology.select('name CA and protein')  # Select protein atoms\n",
    "    ligand_atoms = traj.topology.select('resname ATP and not element H')  # Select ligand atoms (e.g., ATP)\n",
    "\n",
    "    print('Number of protein atoms:', len(protein_atoms))\n",
    "    print('Number of ligand atoms:', len(ligand_atoms))\n",
    "\n",
    "    # Calculate the center of mass for protein and ligand using the function\n",
    "    protein_com = compute_com(traj, protein_atoms)\n",
    "    ligand_com = compute_com(traj, ligand_atoms)\n",
    "\n",
    "    # Print the center of mass\n",
    "    print('Center of mass protein:', protein_com)\n",
    "    print('Center of mass ligand:', ligand_com)\n",
    "\n",
    "    # Compute the translation vector (move to the origin)\n",
    "    translation_vector = -protein_com[0]  # Using the protein center of mass for translation\n",
    "    print('Translation vector:', translation_vector)\n",
    "\n",
    "    # Apply the translation to the entire trajectory\n",
    "    traj.xyz += translation_vector\n",
    "\n",
    "    # Recalculate the center of mass for protein and ligand after translation\n",
    "    protein_com = compute_com(traj, protein_atoms)\n",
    "    ligand_com = compute_com(traj, ligand_atoms)\n",
    "\n",
    "    # Print the new center of mass\n",
    "    print('New Center of mass protein:', protein_com)\n",
    "    print('New Center of mass ligand:', ligand_com)\n",
    "\n",
    "    # Save the modified trajectory to a new PDB file\n",
    "    output_file = output_folder + 'TrwD_atp_min_moved_to_origin.pdb'\n",
    "    traj.save(output_file)\n",
    "    print(f'Modified PDB file saved to: {output_file}')\n",
    "\n",
    "# Example usage\n",
    "pdb_file = '/Users/stuytschaevers/Desktop/Thesis/AMBER/TrwD_atp_mg2/complex_noH_tleap2_out.pdb'\n",
    "output_folder = '/Users/stuytschaevers/Desktop/Thesis/atp_mg2+/cluster/output/input/test/'\n",
    "#pdb_file = '/Users/stuytschaevers/Desktop/Thesis/atp_mg2+/cluster/output/input/TrwD_atp_min.pdb'\n",
    "#output_folder = '/Users/stuytschaevers/Desktop/Thesis/atp_mg2+/cluster/output/input/'\n",
    "\n",
    "move_to_origin(pdb_file, output_folder)\n"
   ]
  },
  {
   "cell_type": "code",
   "execution_count": null,
   "metadata": {},
   "outputs": [],
   "source": []
  }
 ],
 "metadata": {
  "kernelspec": {
   "display_name": "thesis",
   "language": "python",
   "name": "python3"
  },
  "language_info": {
   "codemirror_mode": {
    "name": "ipython",
    "version": 3
   },
   "file_extension": ".py",
   "mimetype": "text/x-python",
   "name": "python",
   "nbconvert_exporter": "python",
   "pygments_lexer": "ipython3",
   "version": "3.12.3"
  }
 },
 "nbformat": 4,
 "nbformat_minor": 2
}
